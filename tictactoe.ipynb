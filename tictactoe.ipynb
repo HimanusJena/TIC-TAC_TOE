{
 "cells": [
  {
   "cell_type": "code",
   "execution_count": 1,
   "id": "9a2a170f-fa61-42b9-b3cf-92febac2d437",
   "metadata": {},
   "outputs": [
    {
     "name": "stdout",
     "output_type": "stream",
     "text": [
      "-|-|-\n",
      "-|-|-\n",
      "-|-|-\n",
      "\n"
     ]
    },
    {
     "name": "stdin",
     "output_type": "stream",
     "text": [
      "Select your choice (0-8):  0\n"
     ]
    },
    {
     "name": "stdout",
     "output_type": "stream",
     "text": [
      "X|-|-\n",
      "-|O|-\n",
      "-|-|-\n",
      "\n"
     ]
    },
    {
     "name": "stdin",
     "output_type": "stream",
     "text": [
      "Select your choice (0-8):  3\n"
     ]
    },
    {
     "name": "stdout",
     "output_type": "stream",
     "text": [
      "X|-|-\n",
      "X|O|-\n",
      "O|-|-\n",
      "\n"
     ]
    },
    {
     "name": "stdin",
     "output_type": "stream",
     "text": [
      "Select your choice (0-8):  1\n"
     ]
    },
    {
     "name": "stdout",
     "output_type": "stream",
     "text": [
      "X|X|O\n",
      "X|O|-\n",
      "O|-|-\n",
      "\n",
      "AI wins!\n"
     ]
    }
   ],
   "source": [
    "import math\n",
    "\n",
    "board = ['-'] * 9\n",
    "AI = 'O'\n",
    "YOU = 'X'\n",
    "\n",
    "def print_board(board):\n",
    "    for i in range(0, 9, 3):\n",
    "        print(board[i] + '|' + board[i + 1] + '|' + board[i + 2])\n",
    "    print()\n",
    "\n",
    "def check_winner(board, player):\n",
    "    winning_combinations = [\n",
    "        [0, 1, 2], [3, 4, 5], [6, 7, 8],\n",
    "        [0, 3, 6], [1, 4, 7], [2, 5, 8],\n",
    "        [0, 4, 8], [2, 4, 6]\n",
    "    ]\n",
    "    for combo in winning_combinations:\n",
    "        if all(board[i] == player for i in combo):\n",
    "            return True\n",
    "    return False\n",
    "\n",
    "def is_board_full(board):\n",
    "    return all(cell != '-' for cell in board)\n",
    "\n",
    "def minimax_alpha_beta(board, depth, alpha, beta, maximizing_player):\n",
    "    if check_winner(board, AI):\n",
    "        return 1\n",
    "    elif check_winner(board, YOU):\n",
    "        return -1\n",
    "    elif is_board_full(board):\n",
    "        return 0\n",
    "\n",
    "    if maximizing_player:\n",
    "        max_eval = -math.inf\n",
    "        for i in range(9):\n",
    "            if board[i] == '-':\n",
    "                board[i] = AI\n",
    "                eval = minimax_alpha_beta(board, depth + 1, alpha, beta, False)\n",
    "                board[i] = '-'\n",
    "                max_eval = max(max_eval, eval)\n",
    "                alpha = max(alpha, eval)\n",
    "                if beta <= alpha:\n",
    "                    break\n",
    "        return max_eval\n",
    "    else:\n",
    "        min_eval = math.inf\n",
    "        for i in range(9):\n",
    "            if board[i] == '-':\n",
    "                board[i] = YOU\n",
    "                eval = minimax_alpha_beta(board, depth + 1, alpha, beta, True)\n",
    "                board[i] = '-'\n",
    "                min_eval = min(min_eval, eval)\n",
    "                beta = min(beta, eval)  # Corrected typo here\n",
    "                if beta <= alpha:\n",
    "                    break\n",
    "        return min_eval\n",
    "\n",
    "def find_best_move(board):\n",
    "    best_move = -1\n",
    "    best_eval = -math.inf\n",
    "    for i in range(9):\n",
    "        if board[i] == '-':\n",
    "            board[i] = AI\n",
    "            eval = minimax_alpha_beta(board, 0, -math.inf, math.inf, False)\n",
    "            board[i] = '-'\n",
    "            if eval > best_eval:\n",
    "                best_eval = eval\n",
    "                best_move = i\n",
    "    return best_move\n",
    "\n",
    "while True:\n",
    "    print_board(board)\n",
    "    move = int(input(\"Select your choice (0-8): \"))\n",
    "    if board[move] == '-':\n",
    "        board[move] = YOU\n",
    "        if check_winner(board, YOU):\n",
    "            print_board(board)\n",
    "            print(\"You win!\")\n",
    "            break\n",
    "        elif is_board_full(board):\n",
    "            print_board(board)\n",
    "            print(\"It's a draw!\")\n",
    "            break\n",
    "        ai_move = find_best_move(board)\n",
    "        board[ai_move] = AI\n",
    "        if check_winner(board, AI):\n",
    "            print_board(board)\n",
    "            print(\"AI wins!\")  # Corrected typo here\n",
    "            break\n",
    "        elif is_board_full(board):\n",
    "            print_board(board)\n",
    "            print(\"It's a draw!\")\n",
    "            break\n",
    "    else:\n",
    "        print(\"Cell already filled. Please try another cell\")"
   ]
  },
  {
   "cell_type": "code",
   "execution_count": null,
   "id": "6e339018-1986-41ea-aa8f-e5faee8861c4",
   "metadata": {},
   "outputs": [],
   "source": []
  }
 ],
 "metadata": {
  "kernelspec": {
   "display_name": "Python 3 (ipykernel)",
   "language": "python",
   "name": "python3"
  },
  "language_info": {
   "codemirror_mode": {
    "name": "ipython",
    "version": 3
   },
   "file_extension": ".py",
   "mimetype": "text/x-python",
   "name": "python",
   "nbconvert_exporter": "python",
   "pygments_lexer": "ipython3",
   "version": "3.12.4"
  }
 },
 "nbformat": 4,
 "nbformat_minor": 5
}
